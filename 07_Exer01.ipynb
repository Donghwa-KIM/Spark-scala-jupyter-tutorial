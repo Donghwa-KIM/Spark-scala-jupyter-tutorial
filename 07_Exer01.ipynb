{
 "cells": [
  {
   "cell_type": "markdown",
   "metadata": {},
   "source": [
    "# exec"
   ]
  },
  {
   "cell_type": "code",
   "execution_count": 3,
   "metadata": {},
   "outputs": [
    {
     "data": {
      "text/plain": [
       "import org.apache.spark._\n"
      ]
     },
     "execution_count": 3,
     "metadata": {},
     "output_type": "execute_result"
    }
   ],
   "source": [
    "import org.apache.spark._"
   ]
  },
  {
   "cell_type": "code",
   "execution_count": 4,
   "metadata": {},
   "outputs": [
    {
     "data": {
      "text/plain": [
       "lines: org.apache.spark.rdd.RDD[String] = ./data/customer-orders.csv MapPartitionsRDD[1] at textFile at <console>:34\n"
      ]
     },
     "execution_count": 4,
     "metadata": {},
     "output_type": "execute_result"
    }
   ],
   "source": [
    "val lines = sc.textFile(\"./data/customer-orders.csv\")"
   ]
  },
  {
   "cell_type": "markdown",
   "metadata": {},
   "source": [
    "- 1 col: customer id\n",
    "- 2 col: item id\n",
    "- 3 col: amount spent"
   ]
  },
  {
   "cell_type": "code",
   "execution_count": 6,
   "metadata": {},
   "outputs": [
    {
     "name": "stdout",
     "output_type": "stream",
     "text": [
      "44,8602,37.19\n",
      "35,5368,65.89\n",
      "2,3391,40.64\n",
      "47,6694,14.98\n",
      "29,680,13.08\n",
      "91,8900,24.59\n",
      "70,3959,68.68\n",
      "85,1733,28.53\n",
      "53,9900,83.55\n",
      "14,1505,4.32\n"
     ]
    }
   ],
   "source": [
    "lines.take(10).foreach(println)"
   ]
  },
  {
   "cell_type": "code",
   "execution_count": 8,
   "metadata": {},
   "outputs": [
    {
     "data": {
      "text/plain": [
       "extractCustomerPricePairs: (line: String)(Int, Float)\n"
      ]
     },
     "execution_count": 8,
     "metadata": {},
     "output_type": "execute_result"
    }
   ],
   "source": [
    "def extractCustomerPricePairs(line: String)={\n",
    "    val fields = line.split(\",\")\n",
    "    (fields(0).toInt, fields(2).toFloat)\n",
    "}"
   ]
  },
  {
   "cell_type": "code",
   "execution_count": 11,
   "metadata": {},
   "outputs": [
    {
     "data": {
      "text/plain": [
       "mapped_input: org.apache.spark.rdd.RDD[(Int, Float)] = MapPartitionsRDD[3] at map at <console>:38\n"
      ]
     },
     "execution_count": 11,
     "metadata": {},
     "output_type": "execute_result"
    }
   ],
   "source": [
    "val mapped_input = lines.map(extractCustomerPricePairs)"
   ]
  },
  {
   "cell_type": "code",
   "execution_count": 12,
   "metadata": {},
   "outputs": [
    {
     "name": "stdout",
     "output_type": "stream",
     "text": [
      "(44,37.19)\n",
      "(35,65.89)\n",
      "(2,40.64)\n",
      "(47,14.98)\n",
      "(29,13.08)\n",
      "(91,24.59)\n",
      "(70,68.68)\n",
      "(85,28.53)\n",
      "(53,83.55)\n",
      "(14,4.32)\n"
     ]
    }
   ],
   "source": [
    "mapped_input.take(10).foreach(println)"
   ]
  },
  {
   "cell_type": "code",
   "execution_count": 16,
   "metadata": {},
   "outputs": [
    {
     "data": {
      "text/plain": [
       "totalByCustomer: org.apache.spark.rdd.RDD[(Int, Float)] = ShuffledRDD[5] at reduceByKey at <console>:40\n"
      ]
     },
     "execution_count": 16,
     "metadata": {},
     "output_type": "execute_result"
    }
   ],
   "source": [
    "val totalByCustomer= mapped_input.reduceByKey((x,y)=> x+y)"
   ]
  },
  {
   "cell_type": "code",
   "execution_count": 28,
   "metadata": {},
   "outputs": [
    {
     "data": {
      "text/plain": [
       "results: Array[(Int, Float)] = Array((68,6375.45), (73,6206.199), (39,6193.1104), (54,6065.39), (71,5995.66), (2,5994.591), (97,5977.1895), (46,5963.111), (42,5696.8403), (59,5642.8906), (41,5637.619), (0,5524.9497), (8,5517.24), (85,5503.4307), (61,5497.48), (32,5496.0503), (58,5437.7305), (63,5415.15), (15,5413.5103), (6,5397.8794), (92,5379.281), (43,5368.83), (70,5368.2505), (72,5337.4395), (34,5330.7993), (9,5322.6494), (55,5298.09), (90,5290.41), (64,5288.69), (93,5265.75), (24,5259.92), (33,5254.659), (62,5253.3213), (26,5250.4004), (52,5245.0605), (87,5206.3994), (40,5186.4297), (35,5155.42), (11,5152.29), (65,5140.3496), (69,5123.01), (81,5112.71), (19,5059.4307), (25,5057.6104), (60,5040.7095), (17,5032.6797), (29,5032.5303), (22,5019.449), (28,5000.7104), (30,4990.72), (16,49..."
      ]
     },
     "execution_count": 28,
     "metadata": {},
     "output_type": "execute_result"
    }
   ],
   "source": [
    "val results = totalByCustomer.map(x => (x._2, x._1)).sortByKey(false).map(x => (x._2, x._1)).collect()"
   ]
  },
  {
   "cell_type": "code",
   "execution_count": 29,
   "metadata": {},
   "outputs": [
    {
     "name": "stdout",
     "output_type": "stream",
     "text": [
      "(68,6375.45)\n",
      "(73,6206.199)\n",
      "(39,6193.1104)\n",
      "(54,6065.39)\n",
      "(71,5995.66)\n",
      "(2,5994.591)\n",
      "(97,5977.1895)\n",
      "(46,5963.111)\n",
      "(42,5696.8403)\n",
      "(59,5642.8906)\n",
      "(41,5637.619)\n",
      "(0,5524.9497)\n",
      "(8,5517.24)\n",
      "(85,5503.4307)\n",
      "(61,5497.48)\n",
      "(32,5496.0503)\n",
      "(58,5437.7305)\n",
      "(63,5415.15)\n",
      "(15,5413.5103)\n",
      "(6,5397.8794)\n",
      "(92,5379.281)\n",
      "(43,5368.83)\n",
      "(70,5368.2505)\n",
      "(72,5337.4395)\n",
      "(34,5330.7993)\n",
      "(9,5322.6494)\n",
      "(55,5298.09)\n",
      "(90,5290.41)\n",
      "(64,5288.69)\n",
      "(93,5265.75)\n",
      "(24,5259.92)\n",
      "(33,5254.659)\n",
      "(62,5253.3213)\n",
      "(26,5250.4004)\n",
      "(52,5245.0605)\n",
      "(87,5206.3994)\n",
      "(40,5186.4297)\n",
      "(35,5155.42)\n",
      "(11,5152.29)\n",
      "(65,5140.3496)\n",
      "(69,5123.01)\n",
      "(81,5112.71)\n",
      "(19,5059.4307)\n",
      "(25,5057.6104)\n",
      "(60,5040.7095)\n",
      "(17,5032.6797)\n",
      "(29,5032.5303)\n",
      "(22,5019.449)\n",
      "(28,5000.7104)\n",
      "(30,4990.72)\n",
      "(16,4979.0605)\n",
      "(51,4975.2197)\n",
      "(1,4958.5996)\n",
      "(53,4945.3)\n",
      "(18,4921.27)\n",
      "(27,4915.8896)\n",
      "(86,4908.809)\n",
      "(76,4904.2104)\n",
      "(38,4898.461)\n",
      "(95,4876.8394)\n",
      "(89,4851.4795)\n",
      "(20,4836.86)\n",
      "(88,4830.55)\n",
      "(10,4819.6997)\n",
      "(4,4815.05)\n",
      "(82,4812.49)\n",
      "(31,4765.05)\n",
      "(44,4756.8906)\n",
      "(7,4755.0693)\n",
      "(37,4735.2)\n",
      "(14,4735.0303)\n",
      "(80,4727.86)\n",
      "(21,4707.41)\n",
      "(56,4701.02)\n",
      "(66,4681.92)\n",
      "(12,4664.59)\n",
      "(3,4659.63)\n",
      "(84,4652.9395)\n",
      "(74,4647.1304)\n",
      "(91,4642.2603)\n",
      "(83,4635.8003)\n",
      "(57,4628.3994)\n",
      "(5,4561.0703)\n",
      "(78,4524.51)\n",
      "(50,4517.2695)\n",
      "(67,4505.79)\n",
      "(94,4475.5703)\n",
      "(49,4394.5996)\n",
      "(48,4384.3296)\n",
      "(13,4367.62)\n",
      "(77,4327.7305)\n",
      "(47,4316.3)\n",
      "(98,4297.26)\n",
      "(36,4278.05)\n",
      "(75,4178.5)\n",
      "(99,4172.29)\n",
      "(23,4042.65)\n",
      "(96,3924.23)\n",
      "(79,3790.5698)\n",
      "(45,3309.3804)\n"
     ]
    }
   ],
   "source": [
    "results.foreach(println)"
   ]
  }
 ],
 "metadata": {
  "kernelspec": {
   "display_name": "scala-spark",
   "language": "scala",
   "name": "spylon-kernel"
  },
  "language_info": {
   "codemirror_mode": "text/x-scala",
   "file_extension": ".scala",
   "help_links": [
    {
     "text": "MetaKernel Magics",
     "url": "https://github.com/calysto/metakernel/blob/master/metakernel/magics/README.md"
    }
   ],
   "mimetype": "text/x-scala",
   "name": "scala",
   "pygments_lexer": "scala",
   "version": "0.4.1"
  }
 },
 "nbformat": 4,
 "nbformat_minor": 2
}
