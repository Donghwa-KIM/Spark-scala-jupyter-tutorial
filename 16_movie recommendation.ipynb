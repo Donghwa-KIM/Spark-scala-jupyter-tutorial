{
 "cells": [
  {
   "cell_type": "markdown",
   "metadata": {},
   "source": [
    "# MLlib"
   ]
  },
  {
   "cell_type": "markdown",
   "metadata": {},
   "source": [
    "# movie recommendation"
   ]
  },
  {
   "cell_type": "code",
   "execution_count": 1,
   "metadata": {},
   "outputs": [
    {
     "data": {
      "text/plain": [
       "Intitializing Scala interpreter ..."
      ]
     },
     "metadata": {},
     "output_type": "display_data"
    },
    {
     "data": {
      "text/plain": [
       "Spark Web UI available at http://163.152.185.244:4040\n",
       "SparkContext available as 'sc' (version = 2.3.1, master = local[*], app id = local-1554465060520)\n",
       "SparkSession available as 'spark'\n"
      ]
     },
     "metadata": {},
     "output_type": "display_data"
    },
    {
     "data": {
      "text/plain": [
       "import org.apache.spark._\n",
       "import org.apache.spark.SparkContext._\n",
       "import scala.io.Source\n",
       "import java.nio.charset.CodingErrorAction\n",
       "import scala.io.Codec\n",
       "import org.apache.spark.mllib.recommendation._\n"
      ]
     },
     "execution_count": 1,
     "metadata": {},
     "output_type": "execute_result"
    }
   ],
   "source": [
    "import org.apache.spark._\n",
    "import org.apache.spark.SparkContext._\n",
    "import scala.io.Source\n",
    "import java.nio.charset.CodingErrorAction\n",
    "import scala.io.Codec\n",
    "import org.apache.spark.mllib.recommendation._\n"
   ]
  },
  {
   "cell_type": "code",
   "execution_count": 2,
   "metadata": {},
   "outputs": [
    {
     "data": {
      "text/plain": [
       "loadMovieNames: ()Map[Int,String]\n"
      ]
     },
     "execution_count": 2,
     "metadata": {},
     "output_type": "execute_result"
    }
   ],
   "source": [
    "/** Load up a Map of movie IDs to movie names. */\n",
    "def loadMovieNames() : Map[Int, String] = {\n",
    "\n",
    "// Handle character encoding issues:\n",
    "implicit val codec = Codec(\"UTF-8\")\n",
    "codec.onMalformedInput(CodingErrorAction.REPLACE)\n",
    "codec.onUnmappableCharacter(CodingErrorAction.REPLACE)\n",
    "\n",
    "// Create a Map of Ints to Strings, and populate it from u.item.\n",
    "var movieNames:Map[Int, String] = Map()\n",
    "\n",
    " val lines = Source.fromFile(\"data/u.item\").getLines()\n",
    " for (line <- lines) {\n",
    "   var fields = line.split('|')\n",
    "   if (fields.length > 1) {\n",
    "    movieNames += (fields(0).toInt -> fields(1))\n",
    "   }\n",
    " }\n",
    "\n",
    " return movieNames\n",
    "}"
   ]
  },
  {
   "cell_type": "code",
   "execution_count": 3,
   "metadata": {},
   "outputs": [
    {
     "data": {
      "text/plain": [
       "nameDict: Map[Int,String] = Map(645 -> Paris Is Burning (1990), 892 -> Flubber (1997), 69 -> Forrest Gump (1994), 1322 -> Metisse (Caf� au Lait) (1993), 1665 -> Brother's Kiss, A (1997), 1036 -> Drop Dead Fred (1991), 1586 -> Lashou shentan (1992), 1501 -> Prisoner of the Mountains (Kavkazsky Plennik) (1996), 809 -> Rising Sun (1993), 1337 -> Larger Than Life (1996), 1411 -> Barbarella (1968), 629 -> Victor/Victoria (1982), 1024 -> Mrs. Dalloway (1997), 1469 -> Tom and Huck (1995), 365 -> Powder (1995), 1369 -> Forbidden Christ, The (Cristo proibito, Il) (1950), 138 -> D3: The Mighty Ducks (1996), 1190 -> That Old Feeling (1997), 1168 -> Little Buddha (1993), 760 -> Screamers (1995), 101 -> Heavy Metal (1981), 1454 -> Angel and the Badman (1947), 1633 -> � k�ldum klaka (Cold Fever) (199..."
      ]
     },
     "execution_count": 3,
     "metadata": {},
     "output_type": "execute_result"
    }
   ],
   "source": [
    "val nameDict = loadMovieNames()"
   ]
  },
  {
   "cell_type": "code",
   "execution_count": 4,
   "metadata": {},
   "outputs": [
    {
     "data": {
      "text/plain": [
       "data: org.apache.spark.rdd.RDD[String] = data/u.data MapPartitionsRDD[1] at textFile at <console>:37\n"
      ]
     },
     "execution_count": 4,
     "metadata": {},
     "output_type": "execute_result"
    }
   ],
   "source": [
    "val data = sc.textFile(\"data/u.data\")"
   ]
  },
  {
   "cell_type": "code",
   "execution_count": 5,
   "metadata": {},
   "outputs": [
    {
     "data": {
      "text/plain": [
       "res0: Array[Int] = Array(196, 186)\n"
      ]
     },
     "execution_count": 5,
     "metadata": {},
     "output_type": "execute_result"
    }
   ],
   "source": [
    "data.map( x => x.split(\"\\t\") ).map(x=>x(0).toInt).take(2)"
   ]
  },
  {
   "cell_type": "markdown",
   "metadata": {},
   "source": [
    "- Rating comes from org.apache.spark.mllib.recommendation"
   ]
  },
  {
   "cell_type": "code",
   "execution_count": 9,
   "metadata": {},
   "outputs": [
    {
     "data": {
      "text/plain": [
       "ratings: org.apache.spark.rdd.RDD[org.apache.spark.mllib.recommendation.Rating] = MapPartitionsRDD[6] at map at <console>:41\n"
      ]
     },
     "execution_count": 9,
     "metadata": {},
     "output_type": "execute_result"
    }
   ],
   "source": [
    "// rating in the recommendation\n",
    "val ratings = data.map( x => x.split(\"\\t\") )\n",
    "    .map( x => Rating(x(0).toInt, x(1).toInt, x(2).toDouble) ).cache()"
   ]
  },
  {
   "cell_type": "code",
   "execution_count": 10,
   "metadata": {},
   "outputs": [
    {
     "name": "stdout",
     "output_type": "stream",
     "text": [
      "Rating(196,242,3.0)\n",
      "Rating(186,302,3.0)\n",
      "Rating(22,377,1.0)\n",
      "Rating(244,51,2.0)\n",
      "Rating(166,346,1.0)\n"
     ]
    }
   ],
   "source": [
    "// Rating(userID, movieID, ratings)\n",
    "ratings.take(5).foreach(println)"
   ]
  },
  {
   "cell_type": "code",
   "execution_count": 11,
   "metadata": {},
   "outputs": [
    {
     "name": "stdout",
     "output_type": "stream",
     "text": [
      "\n",
      "Training recommendation model...\n"
     ]
    }
   ],
   "source": [
    "println(\"\\nTraining recommendation model...\")"
   ]
  },
  {
   "cell_type": "markdown",
   "metadata": {},
   "source": [
    "- Alternating Least Squares algorithm\n",
    "    - movieID x userID 행렬이 주어진 sparse matrix를 생각해보자.\n",
    "    - 랜덤하게 (movieID x rank) x (rank x userID)로 matrix factorization이 가능하다.\n",
    "    - 추측된 행렬과 실제 행렬 차이를 최소화하는 latent variables을 찾음\n",
    "    - 빈 movidID중에 rating이 가장 높은거 추천"
   ]
  },
  {
   "cell_type": "code",
   "execution_count": 15,
   "metadata": {},
   "outputs": [
    {
     "data": {
      "text/plain": [
       "rank: Int = 8\n",
       "numIterations: Int = 20\n",
       "model: org.apache.spark.mllib.recommendation.MatrixFactorizationModel = org.apache.spark.mllib.recommendation.MatrixFactorizationModel@1c432552\n"
      ]
     },
     "execution_count": 15,
     "metadata": {},
     "output_type": "execute_result"
    }
   ],
   "source": [
    "val rank = 8 // latent dimension\n",
    "val numIterations = 20 // training iter\n",
    "val model = ALS.train(ratings, rank, numIterations)"
   ]
  },
  {
   "cell_type": "code",
   "execution_count": 16,
   "metadata": {},
   "outputs": [
    {
     "data": {
      "text/plain": [
       "res6: org.apache.spark.mllib.recommendation.MatrixFactorizationModel = org.apache.spark.mllib.recommendation.MatrixFactorizationModel@1c432552\n"
      ]
     },
     "execution_count": 16,
     "metadata": {},
     "output_type": "execute_result"
    }
   ],
   "source": [
    "model"
   ]
  },
  {
   "cell_type": "code",
   "execution_count": 17,
   "metadata": {},
   "outputs": [
    {
     "name": "stdout",
     "output_type": "stream",
     "text": [
      "\n",
      "Ratings for user ID 253:\n"
     ]
    },
    {
     "data": {
      "text/plain": [
       "userID: Int = 253\n"
      ]
     },
     "execution_count": 17,
     "metadata": {},
     "output_type": "execute_result"
    }
   ],
   "source": [
    "val userID = 253\n",
    "    println(\"\\nRatings for user ID \" + userID + \":\")"
   ]
  },
  {
   "cell_type": "code",
   "execution_count": 18,
   "metadata": {},
   "outputs": [
    {
     "data": {
      "text/plain": [
       "userRatings: org.apache.spark.rdd.RDD[org.apache.spark.mllib.recommendation.Rating] = MapPartitionsRDD[781] at filter at <console>:43\n"
      ]
     },
     "execution_count": 18,
     "metadata": {},
     "output_type": "execute_result"
    }
   ],
   "source": [
    "val userRatings = ratings.filter(x => x.user == userID)"
   ]
  },
  {
   "cell_type": "code",
   "execution_count": 19,
   "metadata": {},
   "outputs": [
    {
     "data": {
      "text/plain": [
       "myRatings: Array[org.apache.spark.mllib.recommendation.Rating] = Array(Rating(253,465,5.0), Rating(253,259,2.0), Rating(253,97,4.0), Rating(253,746,3.0), Rating(253,510,5.0), Rating(253,216,4.0), Rating(253,50,4.0), Rating(253,183,5.0), Rating(253,203,4.0), Rating(253,747,3.0), Rating(253,483,5.0), Rating(253,210,4.0), Rating(253,198,5.0), Rating(253,568,4.0), Rating(253,294,4.0), Rating(253,566,4.0), Rating(253,237,4.0), Rating(253,188,4.0), Rating(253,127,5.0), Rating(253,647,3.0), Rating(253,173,5.0), Rating(253,175,2.0), Rating(253,527,5.0), Rating(253,282,4.0), Rating(253,742,4.0), Rating(253,298,3.0), Rating(253,117,5.0), Rating(253,806,4.0), Rating(253,95,4.0), Rating(253,448,2.0), Rating(253,83,4.0), Rating(253,87,5.0), Rating(253,705,5.0), Rating(253,487,4.0), Rating(253,243,2...."
      ]
     },
     "execution_count": 19,
     "metadata": {},
     "output_type": "execute_result"
    }
   ],
   "source": [
    "val myRatings = userRatings.collect()"
   ]
  },
  {
   "cell_type": "code",
   "execution_count": 20,
   "metadata": {},
   "outputs": [
    {
     "data": {
      "text/plain": [
       "res8: Int = 465\n"
      ]
     },
     "execution_count": 20,
     "metadata": {},
     "output_type": "execute_result"
    }
   ],
   "source": [
    "// movieID\n",
    "myRatings(0).product"
   ]
  },
  {
   "cell_type": "code",
   "execution_count": 21,
   "metadata": {},
   "outputs": [
    {
     "data": {
      "text/plain": [
       "res9: Double = 5.0\n"
      ]
     },
     "execution_count": 21,
     "metadata": {},
     "output_type": "execute_result"
    }
   ],
   "source": [
    "// rating\n",
    "myRatings(0).rating"
   ]
  },
  {
   "cell_type": "markdown",
   "metadata": {},
   "source": [
    "- 253번 사용자가 본 movieID와 rating"
   ]
  },
  {
   "cell_type": "code",
   "execution_count": 22,
   "metadata": {},
   "outputs": [
    {
     "name": "stdout",
     "output_type": "stream",
     "text": [
      "Jungle Book, The (1994): 5.0\n",
      "George of the Jungle (1997): 2.0\n",
      "Dances with Wolves (1990): 4.0\n",
      "Real Genius (1985): 3.0\n",
      "Magnificent Seven, The (1954): 5.0\n",
      "When Harry Met Sally... (1989): 4.0\n",
      "Star Wars (1977): 4.0\n",
      "Alien (1979): 5.0\n",
      "Unforgiven (1992): 4.0\n",
      "Benny & Joon (1993): 3.0\n",
      "Casablanca (1942): 5.0\n",
      "Indiana Jones and the Last Crusade (1989): 4.0\n",
      "Nikita (La Femme Nikita) (1990): 5.0\n",
      "Speed (1994): 4.0\n",
      "Liar Liar (1997): 4.0\n",
      "Clear and Present Danger (1994): 4.0\n",
      "Jerry Maguire (1996): 4.0\n",
      "Full Metal Jacket (1987): 4.0\n",
      "Godfather, The (1972): 5.0\n",
      "Ran (1985): 3.0\n",
      "Princess Bride, The (1987): 5.0\n",
      "Brazil (1985): 2.0\n",
      "Gandhi (1982): 5.0\n",
      "Time to Kill, A (1996): 4.0\n",
      "Ransom (1996): 4.0\n",
      "Face/Off (1997): 3.0\n",
      "Rock, The (1996): 5.0\n",
      "Menace II Society (1993): 4.0\n",
      "Aladdin (1992): 4.0\n",
      "Omen, The (1976): 2.0\n",
      "Much Ado About Nothing (1993): 4.0\n",
      "Searching for Bobby Fischer (1993): 5.0\n",
      "Singin' in the Rain (1952): 5.0\n",
      "Roman Holiday (1953): 4.0\n",
      "Jungle2Jungle (1997): 2.0\n",
      "Shawshank Redemption, The (1994): 5.0\n",
      "It's a Wonderful Life (1946): 5.0\n",
      "Blade Runner (1982): 4.0\n",
      "Fugitive, The (1993): 5.0\n",
      "Game, The (1997): 2.0\n",
      "Silence of the Lambs, The (1991): 5.0\n",
      "Heat (1995): 3.0\n",
      "Conspiracy Theory (1997): 4.0\n",
      "Reservoir Dogs (1992): 3.0\n",
      "Dave (1993): 4.0\n",
      "Cool Hand Luke (1967): 4.0\n",
      "GoodFellas (1990): 3.0\n",
      "Pulp Fiction (1994): 3.0\n",
      "Beauty and the Beast (1991): 5.0\n",
      "Braveheart (1995): 5.0\n",
      "Edge, The (1997): 3.0\n",
      "Con Air (1997): 3.0\n",
      "His Girl Friday (1940): 5.0\n",
      "Usual Suspects, The (1995): 5.0\n",
      "Groundhog Day (1993): 5.0\n",
      "Air Force One (1997): 4.0\n",
      "Babe (1995): 4.0\n",
      "Fargo (1996): 4.0\n",
      "Alien: Resurrection (1997): 4.0\n",
      "Executive Decision (1996): 2.0\n",
      "Mr. Holland's Opus (1995): 4.0\n",
      "Primal Fear (1996): 3.0\n",
      "Jackal, The (1997): 5.0\n",
      "My Fair Lady (1964): 5.0\n",
      "Conan the Barbarian (1981): 3.0\n",
      "Scream 2 (1997): 4.0\n",
      "Mirror Has Two Faces, The (1996): 4.0\n",
      "Henry V (1989): 5.0\n",
      "Terminator 2: Judgment Day (1991): 5.0\n",
      "Phenomenon (1996): 3.0\n",
      "Hudsucker Proxy, The (1994): 4.0\n",
      "Star Trek: First Contact (1996): 4.0\n",
      "Cure, The (1995): 3.0\n",
      "Some Like It Hot (1959): 5.0\n",
      "Fish Called Wanda, A (1988): 3.0\n",
      "Heathers (1989): 3.0\n",
      "Withnail and I (1987): 3.0\n",
      "Arsenic and Old Lace (1944): 5.0\n",
      "Toy Story (1995): 5.0\n",
      "Raging Bull (1980): 1.0\n",
      "Hamlet (1996): 4.0\n",
      "Fire Down Below (1997): 3.0\n",
      "To Kill a Mockingbird (1962): 5.0\n",
      "Stand by Me (1986): 4.0\n",
      "Jaws (1975): 4.0\n",
      "To Catch a Thief (1955): 5.0\n",
      "Independence Day (ID4) (1996): 5.0\n",
      "Little Women (1994): 4.0\n",
      "Jurassic Park (1993): 3.0\n",
      "Wizard of Oz, The (1939): 5.0\n",
      "Monty Python and the Holy Grail (1974): 3.0\n",
      "Miller's Crossing (1990): 5.0\n",
      "Shining, The (1980): 4.0\n",
      "Tomorrow Never Dies (1997): 3.0\n",
      "Get Shorty (1995): 4.0\n",
      "Affair to Remember, An (1957): 5.0\n",
      "Schindler's List (1993): 5.0\n"
     ]
    }
   ],
   "source": [
    "for (rating <- myRatings) {\n",
    "  println(nameDict(rating.product.toInt) + \": \" + rating.rating.toString)\n",
    "}"
   ]
  },
  {
   "cell_type": "code",
   "execution_count": 23,
   "metadata": {},
   "outputs": [
    {
     "data": {
      "text/plain": [
       "recommendations: Array[org.apache.spark.mllib.recommendation.Rating] = Array(Rating(253,1233,5.690142743366552), Rating(253,1463,5.502143677332252), Rating(253,626,5.312405671340901), Rating(253,867,5.241878376653451), Rating(253,318,5.158754547674508), Rating(253,496,5.1223656401703295), Rating(253,1251,4.956725690799651), Rating(253,133,4.925462977349991), Rating(253,1398,4.915498503817086), Rating(253,1242,4.899403232875574))\n"
      ]
     },
     "execution_count": 23,
     "metadata": {},
     "output_type": "execute_result"
    }
   ],
   "source": [
    "val recommendations = model.recommendProducts(userID, 10)"
   ]
  },
  {
   "cell_type": "markdown",
   "metadata": {},
   "source": [
    "- 253번 사용자가 봤던 영화와 가장 유사한 10개의 영화 추천"
   ]
  },
  {
   "cell_type": "code",
   "execution_count": 24,
   "metadata": {},
   "outputs": [
    {
     "name": "stdout",
     "output_type": "stream",
     "text": [
      "N�nette et Boni (1996) score 5.690142743366552\n",
      "Boys, Les (1997) score 5.502143677332252\n",
      "So Dear to My Heart (1949) score 5.312405671340901\n",
      "Whole Wide World, The (1996) score 5.241878376653451\n",
      "Schindler's List (1993) score 5.158754547674508\n",
      "It's a Wonderful Life (1946) score 5.1223656401703295\n",
      "A Chef in Love (1996) score 4.956725690799651\n",
      "Gone with the Wind (1939) score 4.925462977349991\n",
      "Anna (1996) score 4.915498503817086\n",
      "Old Lady Who Walked in the Sea, The (Vieille qui marchait dans la mer, La) (1991) score 4.899403232875574\n"
     ]
    }
   ],
   "source": [
    "for (recommendation <- recommendations) {\n",
    "  println( nameDict(recommendation.product.toInt) + \" score \" + recommendation.rating )\n",
    "}"
   ]
  }
 ],
 "metadata": {
  "kernelspec": {
   "display_name": "scala-spark",
   "language": "scala",
   "name": "spylon-kernel"
  },
  "language_info": {
   "codemirror_mode": "text/x-scala",
   "file_extension": ".scala",
   "help_links": [
    {
     "text": "MetaKernel Magics",
     "url": "https://github.com/calysto/metakernel/blob/master/metakernel/magics/README.md"
    }
   ],
   "mimetype": "text/x-scala",
   "name": "scala",
   "pygments_lexer": "scala",
   "version": "0.4.1"
  }
 },
 "nbformat": 4,
 "nbformat_minor": 2
}
