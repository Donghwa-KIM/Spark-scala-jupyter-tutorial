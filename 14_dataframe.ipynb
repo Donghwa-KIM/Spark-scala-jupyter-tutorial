{
 "cells": [
  {
   "cell_type": "markdown",
   "metadata": {},
   "source": [
    "# DataFrames"
   ]
  },
  {
   "cell_type": "code",
   "execution_count": 1,
   "metadata": {},
   "outputs": [
    {
     "data": {
      "text/plain": [
       "Intitializing Scala interpreter ..."
      ]
     },
     "metadata": {},
     "output_type": "display_data"
    },
    {
     "data": {
      "text/plain": [
       "Spark Web UI available at http://163.152.185.244:4043\n",
       "SparkContext available as 'sc' (version = 2.3.1, master = local[*], app id = local-1554466810103)\n",
       "SparkSession available as 'spark'\n"
      ]
     },
     "metadata": {},
     "output_type": "display_data"
    },
    {
     "data": {
      "text/plain": [
       "import org.apache.spark._\n",
       "import org.apache.spark.SparkContext._\n",
       "import org.apache.spark.sql._\n"
      ]
     },
     "execution_count": 1,
     "metadata": {},
     "output_type": "execute_result"
    }
   ],
   "source": [
    "import org.apache.spark._\n",
    "import org.apache.spark.SparkContext._\n",
    "import org.apache.spark.sql._"
   ]
  },
  {
   "cell_type": "markdown",
   "metadata": {},
   "source": [
    "- 데이터를 불러와 DataFrames을 사용하는 방식은 크게 두가지가 있다."
   ]
  },
  {
   "cell_type": "markdown",
   "metadata": {},
   "source": [
    "---"
   ]
  },
  {
   "cell_type": "markdown",
   "metadata": {},
   "source": [
    "1) RDD로 불러와 DataFrame으로 변환하는 방식"
   ]
  },
  {
   "cell_type": "code",
   "execution_count": 23,
   "metadata": {},
   "outputs": [
    {
     "data": {
      "text/plain": [
       "defined type alias Person\n",
       "colNames: Seq[String] = List(ID, name, age, numFriends)\n"
      ]
     },
     "execution_count": 23,
     "metadata": {},
     "output_type": "execute_result"
    }
   ],
   "source": [
    "type Person = (Int, String, Int, Int)\n",
    "val colNames = Seq(\"ID\", \"name\",\"age\",\"numFriends\")"
   ]
  },
  {
   "cell_type": "code",
   "execution_count": 21,
   "metadata": {},
   "outputs": [
    {
     "data": {
      "text/plain": [
       "mapper: (line: String)Person\n"
      ]
     },
     "execution_count": 21,
     "metadata": {},
     "output_type": "execute_result"
    }
   ],
   "source": [
    "def mapper(line:String): Person = {\n",
    "    val fields = line.split(',')  \n",
    "    val person:Person = (fields(0).toInt, fields(1), fields(2).toInt, fields(3).toInt)\n",
    "    return person\n",
    "}"
   ]
  },
  {
   "cell_type": "code",
   "execution_count": 30,
   "metadata": {},
   "outputs": [
    {
     "data": {
      "text/plain": [
       "lines: org.apache.spark.rdd.RDD[String] = data/fakefriends.csv MapPartitionsRDD[67] at textFile at <console>:41\n",
       "schemaPeople: org.apache.spark.sql.Dataset[org.apache.spark.sql.Row] = [ID: int, name: string ... 2 more fields]\n"
      ]
     },
     "execution_count": 30,
     "metadata": {},
     "output_type": "execute_result"
    }
   ],
   "source": [
    "val lines = spark.sparkContext.textFile(\"data/fakefriends.csv\")\n",
    "val schemaPeople = lines.map(mapper).toDF(colNames: _*).cache()"
   ]
  },
  {
   "cell_type": "code",
   "execution_count": 31,
   "metadata": {},
   "outputs": [
    {
     "name": "stdout",
     "output_type": "stream",
     "text": [
      "+---+--------+---+----------+\n",
      "| ID|    name|age|numFriends|\n",
      "+---+--------+---+----------+\n",
      "|  0|    Will| 33|       385|\n",
      "|  1|Jean-Luc| 26|         2|\n",
      "|  2|    Hugh| 55|       221|\n",
      "|  3|  Deanna| 40|       465|\n",
      "|  4|   Quark| 68|        21|\n",
      "|  5|  Weyoun| 59|       318|\n",
      "|  6|  Gowron| 37|       220|\n",
      "|  7|    Will| 54|       307|\n",
      "|  8|  Jadzia| 38|       380|\n",
      "|  9|    Hugh| 27|       181|\n",
      "| 10|     Odo| 53|       191|\n",
      "| 11|     Ben| 57|       372|\n",
      "| 12|   Keiko| 54|       253|\n",
      "| 13|Jean-Luc| 56|       444|\n",
      "| 14|    Hugh| 43|        49|\n",
      "| 15|     Rom| 36|        49|\n",
      "| 16|  Weyoun| 22|       323|\n",
      "| 17|     Odo| 35|        13|\n",
      "| 18|Jean-Luc| 45|       455|\n",
      "| 19|  Geordi| 60|       246|\n",
      "+---+--------+---+----------+\n",
      "only showing top 20 rows\n",
      "\n"
     ]
    }
   ],
   "source": [
    "schemaPeople.show()"
   ]
  },
  {
   "cell_type": "markdown",
   "metadata": {},
   "source": [
    "---"
   ]
  },
  {
   "cell_type": "markdown",
   "metadata": {},
   "source": [
    "2) 처음부터 DataFrame으로 받는 방식"
   ]
  },
  {
   "cell_type": "code",
   "execution_count": 33,
   "metadata": {},
   "outputs": [
    {
     "data": {
      "text/plain": [
       "import org.apache.spark.sql.types.{StructType, StructField, StringType, IntegerType}\n"
      ]
     },
     "execution_count": 33,
     "metadata": {},
     "output_type": "execute_result"
    }
   ],
   "source": [
    "import org.apache.spark.sql.types.{StructType, StructField, StringType, IntegerType}"
   ]
  },
  {
   "cell_type": "code",
   "execution_count": 34,
   "metadata": {},
   "outputs": [
    {
     "data": {
      "text/plain": [
       "ID: org.apache.spark.sql.types.StructField = StructField(ID,IntegerType,true)\n",
       "name: org.apache.spark.sql.types.StructField = StructField(name,StringType,true)\n",
       "age: org.apache.spark.sql.types.StructField = StructField(age,IntegerType,true)\n",
       "num: org.apache.spark.sql.types.StructField = StructField(numFriends,IntegerType,true)\n",
       "schema: org.apache.spark.sql.types.StructType = StructType(StructField(ID,IntegerType,true), StructField(name,StringType,true), StructField(age,IntegerType,true), StructField(numFriends,IntegerType,true))\n"
      ]
     },
     "execution_count": 34,
     "metadata": {},
     "output_type": "execute_result"
    }
   ],
   "source": [
    "val ID = StructField(\"ID\", IntegerType)\n",
    "val name = StructField(\"name\", StringType)\n",
    "val age = StructField(\"age\", IntegerType)\n",
    "val num = StructField(\"numFriends\", IntegerType)\n",
    "val schema = StructType(List(ID, name, age, num))"
   ]
  },
  {
   "cell_type": "code",
   "execution_count": 35,
   "metadata": {},
   "outputs": [
    {
     "data": {
      "text/plain": [
       "schemaPeople: org.apache.spark.sql.Dataset[org.apache.spark.sql.Row] = [ID: int, name: string ... 2 more fields]\n"
      ]
     },
     "execution_count": 35,
     "metadata": {},
     "output_type": "execute_result"
    }
   ],
   "source": [
    "val schemaPeople = spark.read.schema(schema).csv(\"data/fakefriends.csv\").cache()"
   ]
  },
  {
   "cell_type": "code",
   "execution_count": 36,
   "metadata": {},
   "outputs": [
    {
     "name": "stdout",
     "output_type": "stream",
     "text": [
      "+---+--------+---+----------+\n",
      "| ID|    name|age|numFriends|\n",
      "+---+--------+---+----------+\n",
      "|  0|    Will| 33|       385|\n",
      "|  1|Jean-Luc| 26|         2|\n",
      "|  2|    Hugh| 55|       221|\n",
      "|  3|  Deanna| 40|       465|\n",
      "|  4|   Quark| 68|        21|\n",
      "|  5|  Weyoun| 59|       318|\n",
      "|  6|  Gowron| 37|       220|\n",
      "|  7|    Will| 54|       307|\n",
      "|  8|  Jadzia| 38|       380|\n",
      "|  9|    Hugh| 27|       181|\n",
      "| 10|     Odo| 53|       191|\n",
      "| 11|     Ben| 57|       372|\n",
      "| 12|   Keiko| 54|       253|\n",
      "| 13|Jean-Luc| 56|       444|\n",
      "| 14|    Hugh| 43|        49|\n",
      "| 15|     Rom| 36|        49|\n",
      "| 16|  Weyoun| 22|       323|\n",
      "| 17|     Odo| 35|        13|\n",
      "| 18|Jean-Luc| 45|       455|\n",
      "| 19|  Geordi| 60|       246|\n",
      "+---+--------+---+----------+\n",
      "only showing top 20 rows\n",
      "\n"
     ]
    }
   ],
   "source": [
    "schemaPeople.show()"
   ]
  },
  {
   "cell_type": "markdown",
   "metadata": {},
   "source": [
    "---"
   ]
  },
  {
   "cell_type": "markdown",
   "metadata": {},
   "source": [
    "- schema info"
   ]
  },
  {
   "cell_type": "code",
   "execution_count": 6,
   "metadata": {},
   "outputs": [
    {
     "name": "stdout",
     "output_type": "stream",
     "text": [
      "Here is our inferred schema:\n",
      "root\n",
      " |-- ID: integer (nullable = true)\n",
      " |-- name: string (nullable = true)\n",
      " |-- age: integer (nullable = true)\n",
      " |-- numFriends: integer (nullable = true)\n",
      "\n"
     ]
    }
   ],
   "source": [
    "schemaPeople.printSchema()"
   ]
  },
  {
   "cell_type": "markdown",
   "metadata": {},
   "source": [
    "- 변수선택"
   ]
  },
  {
   "cell_type": "code",
   "execution_count": 8,
   "metadata": {},
   "outputs": [
    {
     "name": "stdout",
     "output_type": "stream",
     "text": [
      "+--------+\n",
      "|    name|\n",
      "+--------+\n",
      "|    Will|\n",
      "|Jean-Luc|\n",
      "|    Hugh|\n",
      "|  Deanna|\n",
      "|   Quark|\n",
      "|  Weyoun|\n",
      "|  Gowron|\n",
      "|    Will|\n",
      "|  Jadzia|\n",
      "|    Hugh|\n",
      "|     Odo|\n",
      "|     Ben|\n",
      "|   Keiko|\n",
      "|Jean-Luc|\n",
      "|    Hugh|\n",
      "|     Rom|\n",
      "|  Weyoun|\n",
      "|     Odo|\n",
      "|Jean-Luc|\n",
      "|  Geordi|\n",
      "+--------+\n",
      "only showing top 20 rows\n",
      "\n"
     ]
    }
   ],
   "source": [
    "schemaPeople.select(\"name\").show()"
   ]
  },
  {
   "cell_type": "markdown",
   "metadata": {},
   "source": [
    "- filter"
   ]
  },
  {
   "cell_type": "code",
   "execution_count": 11,
   "metadata": {},
   "outputs": [
    {
     "name": "stdout",
     "output_type": "stream",
     "text": [
      "+---+-------+---+----------+\n",
      "| ID|   name|age|numFriends|\n",
      "+---+-------+---+----------+\n",
      "| 21|  Miles| 19|       268|\n",
      "| 48|    Nog| 20|         1|\n",
      "| 52|Beverly| 19|       269|\n",
      "| 54|  Brunt| 19|         5|\n",
      "| 60| Geordi| 20|       100|\n",
      "| 73|  Brunt| 20|       384|\n",
      "|106|Beverly| 18|       499|\n",
      "|115|  Dukat| 18|       397|\n",
      "|133|  Quark| 19|       265|\n",
      "|136|   Will| 19|       335|\n",
      "|225|   Elim| 19|       106|\n",
      "|304|   Will| 19|       404|\n",
      "|327| Julian| 20|        63|\n",
      "|341|   Data| 18|       326|\n",
      "|349| Kasidy| 20|       277|\n",
      "|366|  Keiko| 19|       119|\n",
      "|373|  Quark| 19|       272|\n",
      "|377|Beverly| 18|       418|\n",
      "|404| Kasidy| 18|        24|\n",
      "|409|    Nog| 19|       267|\n",
      "+---+-------+---+----------+\n",
      "only showing top 20 rows\n",
      "\n"
     ]
    }
   ],
   "source": [
    "schemaPeople.filter(schemaPeople(\"age\") < 21).show()"
   ]
  },
  {
   "cell_type": "markdown",
   "metadata": {},
   "source": [
    "- for each age, count"
   ]
  },
  {
   "cell_type": "code",
   "execution_count": 12,
   "metadata": {},
   "outputs": [
    {
     "name": "stdout",
     "output_type": "stream",
     "text": [
      "+---+-----+\n",
      "|age|count|\n",
      "+---+-----+\n",
      "| 31|    8|\n",
      "| 65|    5|\n",
      "| 53|    7|\n",
      "| 34|    6|\n",
      "| 28|   10|\n",
      "| 26|   17|\n",
      "| 27|    8|\n",
      "| 44|   12|\n",
      "| 22|    7|\n",
      "| 47|    9|\n",
      "| 52|   11|\n",
      "| 40|   17|\n",
      "| 20|    5|\n",
      "| 57|   12|\n",
      "| 54|   13|\n",
      "| 48|   10|\n",
      "| 19|   11|\n",
      "| 64|   12|\n",
      "| 41|    9|\n",
      "| 43|    7|\n",
      "+---+-----+\n",
      "only showing top 20 rows\n",
      "\n"
     ]
    }
   ],
   "source": [
    "schemaPeople.groupBy(\"age\").count().show()"
   ]
  },
  {
   "cell_type": "markdown",
   "metadata": {},
   "source": [
    "- select multiple columns"
   ]
  },
  {
   "cell_type": "code",
   "execution_count": 24,
   "metadata": {},
   "outputs": [
    {
     "name": "stdout",
     "output_type": "stream",
     "text": [
      "+--------+---+\n",
      "|    name|age|\n",
      "+--------+---+\n",
      "|    Will| 33|\n",
      "|Jean-Luc| 26|\n",
      "|    Hugh| 55|\n",
      "|  Deanna| 40|\n",
      "|   Quark| 68|\n",
      "|  Weyoun| 59|\n",
      "|  Gowron| 37|\n",
      "|    Will| 54|\n",
      "|  Jadzia| 38|\n",
      "|    Hugh| 27|\n",
      "|     Odo| 53|\n",
      "|     Ben| 57|\n",
      "|   Keiko| 54|\n",
      "|Jean-Luc| 56|\n",
      "|    Hugh| 43|\n",
      "|     Rom| 36|\n",
      "|  Weyoun| 22|\n",
      "|     Odo| 35|\n",
      "|Jean-Luc| 45|\n",
      "|  Geordi| 60|\n",
      "+--------+---+\n",
      "only showing top 20 rows\n",
      "\n"
     ]
    }
   ],
   "source": [
    "schemaPeople.select(schemaPeople(\"name\"), schemaPeople(\"age\")).show()"
   ]
  },
  {
   "cell_type": "markdown",
   "metadata": {},
   "source": [
    "- select multiple columns and modify"
   ]
  },
  {
   "cell_type": "code",
   "execution_count": 18,
   "metadata": {},
   "outputs": [
    {
     "name": "stdout",
     "output_type": "stream",
     "text": [
      "+--------+----------+\n",
      "|    name|(age + 10)|\n",
      "+--------+----------+\n",
      "|    Will|        43|\n",
      "|Jean-Luc|        36|\n",
      "|    Hugh|        65|\n",
      "|  Deanna|        50|\n",
      "|   Quark|        78|\n",
      "|  Weyoun|        69|\n",
      "|  Gowron|        47|\n",
      "|    Will|        64|\n",
      "|  Jadzia|        48|\n",
      "|    Hugh|        37|\n",
      "|     Odo|        63|\n",
      "|     Ben|        67|\n",
      "|   Keiko|        64|\n",
      "|Jean-Luc|        66|\n",
      "|    Hugh|        53|\n",
      "|     Rom|        46|\n",
      "|  Weyoun|        32|\n",
      "|     Odo|        45|\n",
      "|Jean-Luc|        55|\n",
      "|  Geordi|        70|\n",
      "+--------+----------+\n",
      "only showing top 20 rows\n",
      "\n"
     ]
    }
   ],
   "source": [
    "schemaPeople.select(schemaPeople(\"name\"), schemaPeople(\"age\") + 10).show()"
   ]
  },
  {
   "cell_type": "code",
   "execution_count": 25,
   "metadata": {},
   "outputs": [],
   "source": [
    "spark.stop()"
   ]
  }
 ],
 "metadata": {
  "kernelspec": {
   "display_name": "scala-spark",
   "language": "scala",
   "name": "spylon-kernel"
  },
  "language_info": {
   "codemirror_mode": "text/x-scala",
   "file_extension": ".scala",
   "help_links": [
    {
     "text": "MetaKernel Magics",
     "url": "https://github.com/calysto/metakernel/blob/master/metakernel/magics/README.md"
    }
   ],
   "mimetype": "text/x-scala",
   "name": "scala",
   "pygments_lexer": "scala",
   "version": "0.4.1"
  }
 },
 "nbformat": 4,
 "nbformat_minor": 2
}
